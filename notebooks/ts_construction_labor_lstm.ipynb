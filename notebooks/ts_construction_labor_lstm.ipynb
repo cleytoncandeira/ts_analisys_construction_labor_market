{
  "nbformat": 4,
  "nbformat_minor": 0,
  "metadata": {
    "colab": {
      "name": "machine_learning_rt.ipynb",
      "provenance": [],
      "collapsed_sections": []
    },
    "kernelspec": {
      "name": "python3",
      "display_name": "Python 3"
    },
    "language_info": {
      "name": "python"
    }
  },
  "cells": [
    {
      "cell_type": "code",
      "execution_count": 2,
      "metadata": {
        "id": "4bTqNybMoBYE"
      },
      "outputs": [],
      "source": [
        "import pandas as pd\n",
        "import numpy as np\n",
        "import matplotlib.pyplot as plt"
      ]
    },
    {
      "cell_type": "code",
      "source": [
        "from matplotlib.pylab import rcParams  #ajustando o matplot para um tamanho maior\n",
        "rcParams['figure.figsize'] = 15, 6"
      ],
      "metadata": {
        "id": "jHKUXistonxm"
      },
      "execution_count": 4,
      "outputs": []
    },
    {
      "cell_type": "code",
      "source": [
        "rt = pd.read_excel('rotatividadegeral.xlsx',\n",
        "                  sheet_name = 'rotatividade', \n",
        "                   usecols = ['Altamira', 'Tucurui', 'tempo'], \n",
        "                   index_col='tempo',parse_dates = True)"
      ],
      "metadata": {
        "id": "ZY5xpN3AoRGv"
      },
      "execution_count": 9,
      "outputs": []
    },
    {
      "cell_type": "code",
      "source": [
        "rt"
      ],
      "metadata": {
        "colab": {
          "base_uri": "https://localhost:8080/",
          "height": 455
        },
        "id": "-wZjnKcEojZ4",
        "outputId": "b9b6edd3-828b-41ae-d1f2-edd6d4565036"
      },
      "execution_count": 10,
      "outputs": [
        {
          "output_type": "execute_result",
          "data": {
            "text/html": [
              "\n",
              "  <div id=\"df-9abbeee7-ee60-480f-a67a-e71cf5a86881\">\n",
              "    <div class=\"colab-df-container\">\n",
              "      <div>\n",
              "<style scoped>\n",
              "    .dataframe tbody tr th:only-of-type {\n",
              "        vertical-align: middle;\n",
              "    }\n",
              "\n",
              "    .dataframe tbody tr th {\n",
              "        vertical-align: top;\n",
              "    }\n",
              "\n",
              "    .dataframe thead th {\n",
              "        text-align: right;\n",
              "    }\n",
              "</style>\n",
              "<table border=\"1\" class=\"dataframe\">\n",
              "  <thead>\n",
              "    <tr style=\"text-align: right;\">\n",
              "      <th></th>\n",
              "      <th>Altamira</th>\n",
              "      <th>Tucurui</th>\n",
              "    </tr>\n",
              "    <tr>\n",
              "      <th>tempo</th>\n",
              "      <th></th>\n",
              "      <th></th>\n",
              "    </tr>\n",
              "  </thead>\n",
              "  <tbody>\n",
              "    <tr>\n",
              "      <th>2004-02-01</th>\n",
              "      <td>7.350746</td>\n",
              "      <td>11.904762</td>\n",
              "    </tr>\n",
              "    <tr>\n",
              "      <th>2004-03-01</th>\n",
              "      <td>3.283582</td>\n",
              "      <td>22.619048</td>\n",
              "    </tr>\n",
              "    <tr>\n",
              "      <th>2004-04-01</th>\n",
              "      <td>3.768657</td>\n",
              "      <td>5.952381</td>\n",
              "    </tr>\n",
              "    <tr>\n",
              "      <th>2004-05-01</th>\n",
              "      <td>6.417910</td>\n",
              "      <td>30.952381</td>\n",
              "    </tr>\n",
              "    <tr>\n",
              "      <th>2004-06-01</th>\n",
              "      <td>7.985075</td>\n",
              "      <td>10.714286</td>\n",
              "    </tr>\n",
              "    <tr>\n",
              "      <th>...</th>\n",
              "      <td>...</td>\n",
              "      <td>...</td>\n",
              "    </tr>\n",
              "    <tr>\n",
              "      <th>2019-08-01</th>\n",
              "      <td>8.661417</td>\n",
              "      <td>2.072357</td>\n",
              "    </tr>\n",
              "    <tr>\n",
              "      <th>2019-09-01</th>\n",
              "      <td>16.666667</td>\n",
              "      <td>1.932537</td>\n",
              "    </tr>\n",
              "    <tr>\n",
              "      <th>2019-10-01</th>\n",
              "      <td>9.600000</td>\n",
              "      <td>1.265378</td>\n",
              "    </tr>\n",
              "    <tr>\n",
              "      <th>2019-11-01</th>\n",
              "      <td>3.225806</td>\n",
              "      <td>0.351617</td>\n",
              "    </tr>\n",
              "    <tr>\n",
              "      <th>2019-12-01</th>\n",
              "      <td>0.813008</td>\n",
              "      <td>0.070348</td>\n",
              "    </tr>\n",
              "  </tbody>\n",
              "</table>\n",
              "<p>191 rows × 2 columns</p>\n",
              "</div>\n",
              "      <button class=\"colab-df-convert\" onclick=\"convertToInteractive('df-9abbeee7-ee60-480f-a67a-e71cf5a86881')\"\n",
              "              title=\"Convert this dataframe to an interactive table.\"\n",
              "              style=\"display:none;\">\n",
              "        \n",
              "  <svg xmlns=\"http://www.w3.org/2000/svg\" height=\"24px\"viewBox=\"0 0 24 24\"\n",
              "       width=\"24px\">\n",
              "    <path d=\"M0 0h24v24H0V0z\" fill=\"none\"/>\n",
              "    <path d=\"M18.56 5.44l.94 2.06.94-2.06 2.06-.94-2.06-.94-.94-2.06-.94 2.06-2.06.94zm-11 1L8.5 8.5l.94-2.06 2.06-.94-2.06-.94L8.5 2.5l-.94 2.06-2.06.94zm10 10l.94 2.06.94-2.06 2.06-.94-2.06-.94-.94-2.06-.94 2.06-2.06.94z\"/><path d=\"M17.41 7.96l-1.37-1.37c-.4-.4-.92-.59-1.43-.59-.52 0-1.04.2-1.43.59L10.3 9.45l-7.72 7.72c-.78.78-.78 2.05 0 2.83L4 21.41c.39.39.9.59 1.41.59.51 0 1.02-.2 1.41-.59l7.78-7.78 2.81-2.81c.8-.78.8-2.07 0-2.86zM5.41 20L4 18.59l7.72-7.72 1.47 1.35L5.41 20z\"/>\n",
              "  </svg>\n",
              "      </button>\n",
              "      \n",
              "  <style>\n",
              "    .colab-df-container {\n",
              "      display:flex;\n",
              "      flex-wrap:wrap;\n",
              "      gap: 12px;\n",
              "    }\n",
              "\n",
              "    .colab-df-convert {\n",
              "      background-color: #E8F0FE;\n",
              "      border: none;\n",
              "      border-radius: 50%;\n",
              "      cursor: pointer;\n",
              "      display: none;\n",
              "      fill: #1967D2;\n",
              "      height: 32px;\n",
              "      padding: 0 0 0 0;\n",
              "      width: 32px;\n",
              "    }\n",
              "\n",
              "    .colab-df-convert:hover {\n",
              "      background-color: #E2EBFA;\n",
              "      box-shadow: 0px 1px 2px rgba(60, 64, 67, 0.3), 0px 1px 3px 1px rgba(60, 64, 67, 0.15);\n",
              "      fill: #174EA6;\n",
              "    }\n",
              "\n",
              "    [theme=dark] .colab-df-convert {\n",
              "      background-color: #3B4455;\n",
              "      fill: #D2E3FC;\n",
              "    }\n",
              "\n",
              "    [theme=dark] .colab-df-convert:hover {\n",
              "      background-color: #434B5C;\n",
              "      box-shadow: 0px 1px 3px 1px rgba(0, 0, 0, 0.15);\n",
              "      filter: drop-shadow(0px 1px 2px rgba(0, 0, 0, 0.3));\n",
              "      fill: #FFFFFF;\n",
              "    }\n",
              "  </style>\n",
              "\n",
              "      <script>\n",
              "        const buttonEl =\n",
              "          document.querySelector('#df-9abbeee7-ee60-480f-a67a-e71cf5a86881 button.colab-df-convert');\n",
              "        buttonEl.style.display =\n",
              "          google.colab.kernel.accessAllowed ? 'block' : 'none';\n",
              "\n",
              "        async function convertToInteractive(key) {\n",
              "          const element = document.querySelector('#df-9abbeee7-ee60-480f-a67a-e71cf5a86881');\n",
              "          const dataTable =\n",
              "            await google.colab.kernel.invokeFunction('convertToInteractive',\n",
              "                                                     [key], {});\n",
              "          if (!dataTable) return;\n",
              "\n",
              "          const docLinkHtml = 'Like what you see? Visit the ' +\n",
              "            '<a target=\"_blank\" href=https://colab.research.google.com/notebooks/data_table.ipynb>data table notebook</a>'\n",
              "            + ' to learn more about interactive tables.';\n",
              "          element.innerHTML = '';\n",
              "          dataTable['output_type'] = 'display_data';\n",
              "          await google.colab.output.renderOutput(dataTable, element);\n",
              "          const docLink = document.createElement('div');\n",
              "          docLink.innerHTML = docLinkHtml;\n",
              "          element.appendChild(docLink);\n",
              "        }\n",
              "      </script>\n",
              "    </div>\n",
              "  </div>\n",
              "  "
            ],
            "text/plain": [
              "             Altamira    Tucurui\n",
              "tempo                           \n",
              "2004-02-01   7.350746  11.904762\n",
              "2004-03-01   3.283582  22.619048\n",
              "2004-04-01   3.768657   5.952381\n",
              "2004-05-01   6.417910  30.952381\n",
              "2004-06-01   7.985075  10.714286\n",
              "...               ...        ...\n",
              "2019-08-01   8.661417   2.072357\n",
              "2019-09-01  16.666667   1.932537\n",
              "2019-10-01   9.600000   1.265378\n",
              "2019-11-01   3.225806   0.351617\n",
              "2019-12-01   0.813008   0.070348\n",
              "\n",
              "[191 rows x 2 columns]"
            ]
          },
          "metadata": {},
          "execution_count": 10
        }
      ]
    },
    {
      "cell_type": "code",
      "source": [
        "rt.plot(figsize=(12,6))\n"
      ],
      "metadata": {
        "colab": {
          "base_uri": "https://localhost:8080/",
          "height": 405
        },
        "id": "UNZHzL8vo4Jh",
        "outputId": "f0152d57-5aad-43fb-e1e0-31a9be1022cd"
      },
      "execution_count": 11,
      "outputs": [
        {
          "output_type": "execute_result",
          "data": {
            "text/plain": [
              "<matplotlib.axes._subplots.AxesSubplot at 0x7f522516e890>"
            ]
          },
          "metadata": {},
          "execution_count": 11
        },
        {
          "output_type": "display_data",
          "data": {
            "image/png": "[encoded data removed]",
            "text/plain": [
              "<Figure size 864x432 with 1 Axes>"
            ]
          },
          "metadata": {
            "needs_background": "light"
          }
        }
      ]
    },
    {
      "cell_type": "code",
      "source": [
        "from statsmodels.tsa.seasonal import seasonal_decompose"
      ],
      "metadata": {
        "colab": {
          "base_uri": "https://localhost:8080/"
        },
        "id": "8H9Q9ptippjb",
        "outputId": "80431ad4-27f2-4d1b-c841-6c6230bda600"
      },
      "execution_count": 12,
      "outputs": [
        {
          "output_type": "stream",
          "name": "stderr",
          "text": [
            "/usr/local/lib/python3.7/dist-packages/statsmodels/tools/_testing.py:19: FutureWarning: pandas.util.testing is deprecated. Use the functions in the public API at pandas.testing instead.\n",
            "  import pandas.util.testing as tm\n"
          ]
        }
      ]
    },
    {
      "cell_type": "code",
      "source": [
        "results = seasonal_decompose(rt['Altamira'])\n",
        "results.plot();"
      ],
      "metadata": {
        "colab": {
          "base_uri": "https://localhost:8080/",
          "height": 362
        },
        "id": "rZDYXcDMpxhO",
        "outputId": "47fbbe24-b35a-448d-f62a-8a826465dbf5"
      },
      "execution_count": 13,
      "outputs": [
        {
          "output_type": "display_data",
          "data": {
            "image/png": "[encoded data removed]",
            "text/plain": [
              "<Figure size 1080x432 with 4 Axes>"
            ]
          },
          "metadata": {
            "needs_background": "light"
          }
        }
      ]
    },
    {
      "cell_type": "code",
      "source": [
        "len(rt)"
      ],
      "metadata": {
        "colab": {
          "base_uri": "https://localhost:8080/"
        },
        "id": "aBsfuTvop7w5",
        "outputId": "3f45250c-0d11-4551-f3b8-de4cbfe44da1"
      },
      "execution_count": 14,
      "outputs": [
        {
          "output_type": "execute_result",
          "data": {
            "text/plain": [
              "191"
            ]
          },
          "metadata": {},
          "execution_count": 14
        }
      ]
    },
    {
      "cell_type": "code",
      "source": [
        "alt = rt[['Altamira']]\n",
        "tucu = rt[['Tucurui']]"
      ],
      "metadata": {
        "id": "cFsUPkIUqDaL"
      },
      "execution_count": 17,
      "outputs": []
    },
    {
      "cell_type": "code",
      "source": [
        "train_alt = alt.iloc[:171]\n",
        "train_tucu = tucu.iloc[:171]\n",
        "test_alt = alt.iloc[171:]\n",
        "test_tucu = tucu.iloc[171:]"
      ],
      "metadata": {
        "id": "ZhMwI9X6p_25"
      },
      "execution_count": 18,
      "outputs": []
    },
    {
      "cell_type": "code",
      "source": [
        "from sklearn.preprocessing import MinMaxScaler\n",
        "scaler = MinMaxScaler()"
      ],
      "metadata": {
        "id": "Bu4Z8K7Cq4v4"
      },
      "execution_count": 19,
      "outputs": []
    },
    {
      "cell_type": "code",
      "source": [
        "scaler.fit(train_alt)\n",
        "scaler.fit(train_tucu)\n",
        "scaled_treino_ae = scaler.transform(train_alt)\n",
        "scaled_teste_ae = scaler.transform(test_alt)\n",
        "scaled_treino_tuc = scaler.transform(train_tucu)\n",
        "scaled_teste_tuc = scaler.transform(test_tucu)"
      ],
      "metadata": {
        "colab": {
          "base_uri": "https://localhost:8080/"
        },
        "id": "VIEaGKASq85S",
        "outputId": "64b29bcd-e6cf-4331-f532-2eb09fb42ef6"
      },
      "execution_count": 21,
      "outputs": [
        {
          "output_type": "stream",
          "name": "stderr",
          "text": [
            "/usr/local/lib/python3.7/dist-packages/sklearn/base.py:493: FutureWarning: The feature names should match those that were passed during fit. Starting version 1.2, an error will be raised.\n",
            "Feature names unseen at fit time:\n",
            "- Altamira\n",
            "Feature names seen at fit time, yet now missing:\n",
            "- Tucurui\n",
            "\n",
            "  warnings.warn(message, FutureWarning)\n",
            "/usr/local/lib/python3.7/dist-packages/sklearn/base.py:493: FutureWarning: The feature names should match those that were passed during fit. Starting version 1.2, an error will be raised.\n",
            "Feature names unseen at fit time:\n",
            "- Altamira\n",
            "Feature names seen at fit time, yet now missing:\n",
            "- Tucurui\n",
            "\n",
            "  warnings.warn(message, FutureWarning)\n"
          ]
        }
      ]
    },
    {
      "cell_type": "code",
      "source": [
        "from keras.preprocessing.sequence import TimeseriesGenerator"
      ],
      "metadata": {
        "id": "3ILfztf4rRpk"
      },
      "execution_count": 22,
      "outputs": []
    },
    {
      "cell_type": "code",
      "source": [
        "n_input = 3\n",
        "n_features = 1\n",
        "generator_alt = TimeseriesGenerator(scaled_treino_ae, scaled_treino_ae, length=n_input, batch_size=1)\n",
        "generator_tucu = TimeseriesGenerator(scaled_treino_tuc, scaled_treino_tuc, length=n_input, batch_size=1)"
      ],
      "metadata": {
        "id": "nnW9i0NQrcY9"
      },
      "execution_count": 24,
      "outputs": []
    },
    {
      "cell_type": "code",
      "source": [
        "#Altamira \n",
        "\n",
        "X,y = generator_alt[0]\n",
        "print(f'Given the Array: \\n{X.flatten()}')\n",
        "print(f'Predict this y: \\n {y}')"
      ],
      "metadata": {
        "colab": {
          "base_uri": "https://localhost:8080/"
        },
        "id": "fQB2oXyrsAwv",
        "outputId": "635be0b8-42b8-4ea0-c987-ff95c4f94723"
      },
      "execution_count": 25,
      "outputs": [
        {
          "output_type": "stream",
          "name": "stdout",
          "text": [
            "Given the Array: \n",
            "[0.14395211 0.06430348 0.07380286]\n",
            "Predict this y: \n",
            " [[0.12568408]]\n"
          ]
        }
      ]
    },
    {
      "cell_type": "code",
      "source": [
        "#Tucuruí\n",
        "\n",
        "Z,w = generator_tucu[0]\n",
        "print(f'Given the Array: \\n{Z.flatten()}')\n",
        "print(f'Predict this y: \\n {w}')"
      ],
      "metadata": {
        "colab": {
          "base_uri": "https://localhost:8080/"
        },
        "id": "QUUbaktbsUJi",
        "outputId": "5c833960-e9b7-4789-9a28-226e065337d9"
      },
      "execution_count": 28,
      "outputs": [
        {
          "output_type": "stream",
          "name": "stdout",
          "text": [
            "Given the Array: \n",
            "[0.23313492 0.44295635 0.11656746]\n",
            "Predict this y: \n",
            " [[0.60615079]]\n"
          ]
        }
      ]
    },
    {
      "cell_type": "code",
      "source": [
        "X.shape"
      ],
      "metadata": {
        "colab": {
          "base_uri": "https://localhost:8080/"
        },
        "id": "-MIBEQ-osZex",
        "outputId": "a2cf0ddc-972d-4cc6-91bb-3133684ba5c2"
      },
      "execution_count": 29,
      "outputs": [
        {
          "output_type": "execute_result",
          "data": {
            "text/plain": [
              "(1, 3, 1)"
            ]
          },
          "metadata": {},
          "execution_count": 29
        }
      ]
    },
    {
      "cell_type": "code",
      "source": [
        ""
      ],
      "metadata": {
        "id": "nqnYvDiLs21I"
      },
      "execution_count": null,
      "outputs": []
    },
    {
      "cell_type": "code",
      "source": [
        "#Ampliando para 12 meses\n",
        "\n",
        "n_input = 12\n",
        "generator_alt = TimeseriesGenerator(scaled_treino_ae, scaled_treino_ae, length=n_input, batch_size=1)\n",
        "generator_tucu = TimeseriesGenerator(scaled_treino_tuc, scaled_treino_tuc, length=n_input, batch_size=1)"
      ],
      "metadata": {
        "id": "vqrGFLBdsqWE"
      },
      "execution_count": 30,
      "outputs": []
    },
    {
      "cell_type": "code",
      "source": [
        "from keras.models import Sequential\n",
        "from keras.layers import Dense\n",
        "from keras.layers import LSTM"
      ],
      "metadata": {
        "id": "XLhcHgyAs9Bh"
      },
      "execution_count": 31,
      "outputs": []
    },
    {
      "cell_type": "code",
      "source": [
        "#modelo definido\n",
        "\n",
        "model = Sequential()\n",
        "model.add(LSTM(100, activation='relu', input_shape=(n_input, n_features)))\n",
        "model.add(Dense(1))\n",
        "model.compile(optimizer='adam', loss='mse')"
      ],
      "metadata": {
        "id": "BjbDuz7itBKL"
      },
      "execution_count": 34,
      "outputs": []
    },
    {
      "cell_type": "code",
      "source": [
        "model.summary()"
      ],
      "metadata": {
        "colab": {
          "base_uri": "https://localhost:8080/"
        },
        "id": "Mv8wxY_ItVa0",
        "outputId": "20c294bb-da04-4041-e08f-b33d4400eee6"
      },
      "execution_count": 36,
      "outputs": [
        {
          "output_type": "stream",
          "name": "stdout",
          "text": [
            "Model: \"sequential_2\"\n",
            "_________________________________________________________________\n",
            " Layer (type)                Output Shape              Param #   \n",
            "=================================================================\n",
            " lstm_2 (LSTM)               (None, 100)               40800     \n",
            "                                                                 \n",
            " dense_2 (Dense)             (None, 1)                 101       \n",
            "                                                                 \n",
            "=================================================================\n",
            "Total params: 40,901\n",
            "Trainable params: 40,901\n",
            "Non-trainable params: 0\n",
            "_________________________________________________________________\n"
          ]
        }
      ]
    },
    {
      "cell_type": "code",
      "source": [
        "#fit model Altamira\n",
        "\n",
        "model.fit(generator_alt,epochs=50)"
      ],
      "metadata": {
        "colab": {
          "base_uri": "https://localhost:8080/"
        },
        "id": "BkxdcoaCteH6",
        "outputId": "44992af9-1541-402a-dbde-d928fd056a03"
      },
      "execution_count": 39,
      "outputs": [
        {
          "output_type": "stream",
          "name": "stdout",
          "text": [
            "Epoch 1/50\n",
            "159/159 [==============================] - 3s 7ms/step - loss: 0.0043\n",
            "Epoch 2/50\n",
            "159/159 [==============================] - 1s 7ms/step - loss: 0.0040\n",
            "Epoch 3/50\n",
            "159/159 [==============================] - 2s 10ms/step - loss: 0.0038\n",
            "Epoch 4/50\n",
            "159/159 [==============================] - 2s 11ms/step - loss: 0.0037\n",
            "Epoch 5/50\n",
            "159/159 [==============================] - 1s 7ms/step - loss: 0.0039\n",
            "Epoch 6/50\n",
            "159/159 [==============================] - 1s 7ms/step - loss: 0.0038\n",
            "Epoch 7/50\n",
            "159/159 [==============================] - 1s 7ms/step - loss: 0.0038\n",
            "Epoch 8/50\n",
            "159/159 [==============================] - 1s 7ms/step - loss: 0.0037\n",
            "Epoch 9/50\n",
            "159/159 [==============================] - 1s 7ms/step - loss: 0.0036\n",
            "Epoch 10/50\n",
            "159/159 [==============================] - 1s 7ms/step - loss: 0.0037\n",
            "Epoch 11/50\n",
            "159/159 [==============================] - 1s 7ms/step - loss: 0.0037\n",
            "Epoch 12/50\n",
            "159/159 [==============================] - 1s 7ms/step - loss: 0.0035\n",
            "Epoch 13/50\n",
            "159/159 [==============================] - 1s 7ms/step - loss: 0.0036\n",
            "Epoch 14/50\n",
            "159/159 [==============================] - 1s 7ms/step - loss: 0.0037\n",
            "Epoch 15/50\n",
            "159/159 [==============================] - 1s 6ms/step - loss: 0.0036\n",
            "Epoch 16/50\n",
            "159/159 [==============================] - 1s 7ms/step - loss: 0.0036\n",
            "Epoch 17/50\n",
            "159/159 [==============================] - 1s 7ms/step - loss: 0.0035\n",
            "Epoch 18/50\n",
            "159/159 [==============================] - 1s 7ms/step - loss: 0.0035\n",
            "Epoch 19/50\n",
            "159/159 [==============================] - 1s 7ms/step - loss: 0.0035\n",
            "Epoch 20/50\n",
            "159/159 [==============================] - 1s 7ms/step - loss: 0.0035\n",
            "Epoch 21/50\n",
            "159/159 [==============================] - 1s 7ms/step - loss: 0.0035\n",
            "Epoch 22/50\n",
            "159/159 [==============================] - 1s 7ms/step - loss: 0.0035\n",
            "Epoch 23/50\n",
            "159/159 [==============================] - 1s 6ms/step - loss: 0.0035\n",
            "Epoch 24/50\n",
            "159/159 [==============================] - 1s 8ms/step - loss: 0.0034\n",
            "Epoch 25/50\n",
            "159/159 [==============================] - 1s 6ms/step - loss: 0.0032\n",
            "Epoch 26/50\n",
            "159/159 [==============================] - 1s 7ms/step - loss: 0.0034\n",
            "Epoch 27/50\n",
            "159/159 [==============================] - 1s 7ms/step - loss: 0.0034\n",
            "Epoch 28/50\n",
            "159/159 [==============================] - 1s 7ms/step - loss: 0.0035\n",
            "Epoch 29/50\n",
            "159/159 [==============================] - 1s 7ms/step - loss: 0.0034\n",
            "Epoch 30/50\n",
            "159/159 [==============================] - 1s 7ms/step - loss: 0.0035\n",
            "Epoch 31/50\n",
            "159/159 [==============================] - 1s 7ms/step - loss: 0.0033\n",
            "Epoch 32/50\n",
            "159/159 [==============================] - 1s 7ms/step - loss: 0.0034\n",
            "Epoch 33/50\n",
            "159/159 [==============================] - 1s 7ms/step - loss: 0.0033\n",
            "Epoch 34/50\n",
            "159/159 [==============================] - 1s 7ms/step - loss: 0.0033\n",
            "Epoch 35/50\n",
            "159/159 [==============================] - 1s 7ms/step - loss: 0.0033\n",
            "Epoch 36/50\n",
            "159/159 [==============================] - 1s 7ms/step - loss: 0.0033\n",
            "Epoch 37/50\n",
            "159/159 [==============================] - 1s 7ms/step - loss: 0.0033\n",
            "Epoch 38/50\n",
            "159/159 [==============================] - 1s 7ms/step - loss: 0.0032\n",
            "Epoch 39/50\n",
            "159/159 [==============================] - 1s 7ms/step - loss: 0.0032\n",
            "Epoch 40/50\n",
            "159/159 [==============================] - 1s 7ms/step - loss: 0.0031\n",
            "Epoch 41/50\n",
            "159/159 [==============================] - 1s 7ms/step - loss: 0.0031\n",
            "Epoch 42/50\n",
            "159/159 [==============================] - 1s 8ms/step - loss: 0.0031\n",
            "Epoch 43/50\n",
            "159/159 [==============================] - 1s 7ms/step - loss: 0.0031\n",
            "Epoch 44/50\n",
            "159/159 [==============================] - 1s 7ms/step - loss: 0.0031\n",
            "Epoch 45/50\n",
            "159/159 [==============================] - 1s 7ms/step - loss: 0.0031\n",
            "Epoch 46/50\n",
            "159/159 [==============================] - 1s 8ms/step - loss: 0.0030\n",
            "Epoch 47/50\n",
            "159/159 [==============================] - 1s 7ms/step - loss: 0.0029\n",
            "Epoch 48/50\n",
            "159/159 [==============================] - 1s 7ms/step - loss: 0.0031\n",
            "Epoch 49/50\n",
            "159/159 [==============================] - 1s 7ms/step - loss: 0.0030\n",
            "Epoch 50/50\n",
            "159/159 [==============================] - 1s 7ms/step - loss: 0.0029\n"
          ]
        },
        {
          "output_type": "execute_result",
          "data": {
            "text/plain": [
              "<keras.callbacks.History at 0x7f519e1d3ed0>"
            ]
          },
          "metadata": {},
          "execution_count": 39
        }
      ]
    },
    {
      "cell_type": "code",
      "source": [
        "#fit model Altamira\n",
        "\n",
        "model.fit(generator_tucu,epochs=50)"
      ],
      "metadata": {
        "colab": {
          "base_uri": "https://localhost:8080/"
        },
        "id": "ZK_gioHnto_2",
        "outputId": "327a839c-fb1f-4c95-dd7b-0e9acc47dc77"
      },
      "execution_count": 40,
      "outputs": [
        {
          "output_type": "stream",
          "name": "stdout",
          "text": [
            "Epoch 1/50\n",
            "159/159 [==============================] - 1s 7ms/step - loss: 0.0165\n",
            "Epoch 2/50\n",
            "159/159 [==============================] - 1s 7ms/step - loss: 0.0158\n",
            "Epoch 3/50\n",
            "159/159 [==============================] - 1s 7ms/step - loss: 0.0150\n",
            "Epoch 4/50\n",
            "159/159 [==============================] - 1s 7ms/step - loss: 0.0149\n",
            "Epoch 5/50\n",
            "159/159 [==============================] - 1s 7ms/step - loss: 0.0143\n",
            "Epoch 6/50\n",
            "159/159 [==============================] - 1s 7ms/step - loss: 0.0146\n",
            "Epoch 7/50\n",
            "159/159 [==============================] - 1s 7ms/step - loss: 0.0143\n",
            "Epoch 8/50\n",
            "159/159 [==============================] - 1s 7ms/step - loss: 0.0140\n",
            "Epoch 9/50\n",
            "159/159 [==============================] - 1s 7ms/step - loss: 0.0144\n",
            "Epoch 10/50\n",
            "159/159 [==============================] - 1s 7ms/step - loss: 0.0141\n",
            "Epoch 11/50\n",
            "159/159 [==============================] - 1s 7ms/step - loss: 0.0140\n",
            "Epoch 12/50\n",
            "159/159 [==============================] - 1s 7ms/step - loss: 0.0138\n",
            "Epoch 13/50\n",
            "159/159 [==============================] - 1s 7ms/step - loss: 0.0138\n",
            "Epoch 14/50\n",
            "159/159 [==============================] - 1s 7ms/step - loss: 0.0137\n",
            "Epoch 15/50\n",
            "159/159 [==============================] - 1s 7ms/step - loss: 0.0139\n",
            "Epoch 16/50\n",
            "159/159 [==============================] - 1s 7ms/step - loss: 0.0136\n",
            "Epoch 17/50\n",
            "159/159 [==============================] - 1s 9ms/step - loss: 0.0134\n",
            "Epoch 18/50\n",
            "159/159 [==============================] - 1s 7ms/step - loss: 0.0135\n",
            "Epoch 19/50\n",
            "159/159 [==============================] - 1s 6ms/step - loss: 0.0133\n",
            "Epoch 20/50\n",
            "159/159 [==============================] - 1s 7ms/step - loss: 0.0130\n",
            "Epoch 21/50\n",
            "159/159 [==============================] - 1s 7ms/step - loss: 0.0134\n",
            "Epoch 22/50\n",
            "159/159 [==============================] - 1s 7ms/step - loss: 0.0129\n",
            "Epoch 23/50\n",
            "159/159 [==============================] - 1s 7ms/step - loss: 0.0125\n",
            "Epoch 24/50\n",
            "159/159 [==============================] - 1s 7ms/step - loss: 0.0123\n",
            "Epoch 25/50\n",
            "159/159 [==============================] - 1s 7ms/step - loss: 0.0136\n",
            "Epoch 26/50\n",
            "159/159 [==============================] - 1s 7ms/step - loss: 0.0122\n",
            "Epoch 27/50\n",
            "159/159 [==============================] - 1s 7ms/step - loss: 0.0125\n",
            "Epoch 28/50\n",
            "159/159 [==============================] - 1s 7ms/step - loss: 0.0118\n",
            "Epoch 29/50\n",
            "159/159 [==============================] - 1s 7ms/step - loss: 0.0120\n",
            "Epoch 30/50\n",
            "159/159 [==============================] - 1s 8ms/step - loss: 0.0118\n",
            "Epoch 31/50\n",
            "159/159 [==============================] - 1s 7ms/step - loss: 0.0110\n",
            "Epoch 32/50\n",
            "159/159 [==============================] - 1s 8ms/step - loss: 0.0107\n",
            "Epoch 33/50\n",
            "159/159 [==============================] - 1s 7ms/step - loss: 0.0110\n",
            "Epoch 34/50\n",
            "159/159 [==============================] - 1s 7ms/step - loss: 0.0106\n",
            "Epoch 35/50\n",
            "159/159 [==============================] - 1s 7ms/step - loss: 0.0102\n",
            "Epoch 36/50\n",
            "159/159 [==============================] - 1s 7ms/step - loss: 0.0101\n",
            "Epoch 37/50\n",
            "159/159 [==============================] - 1s 7ms/step - loss: 0.0099\n",
            "Epoch 38/50\n",
            "159/159 [==============================] - 1s 7ms/step - loss: 0.0098\n",
            "Epoch 39/50\n",
            "159/159 [==============================] - 1s 7ms/step - loss: 0.0099\n",
            "Epoch 40/50\n",
            "159/159 [==============================] - 1s 7ms/step - loss: 0.0111\n",
            "Epoch 41/50\n",
            "159/159 [==============================] - 1s 7ms/step - loss: 0.0100\n",
            "Epoch 42/50\n",
            "159/159 [==============================] - 1s 7ms/step - loss: 0.0094\n",
            "Epoch 43/50\n",
            "159/159 [==============================] - 1s 7ms/step - loss: 0.0090\n",
            "Epoch 44/50\n",
            "159/159 [==============================] - 1s 7ms/step - loss: 0.0089\n",
            "Epoch 45/50\n",
            "159/159 [==============================] - 1s 7ms/step - loss: 0.0080\n",
            "Epoch 46/50\n",
            "159/159 [==============================] - 1s 7ms/step - loss: 0.0099\n",
            "Epoch 47/50\n",
            "159/159 [==============================] - 1s 7ms/step - loss: 0.0086\n",
            "Epoch 48/50\n",
            "159/159 [==============================] - 1s 7ms/step - loss: 0.0079\n",
            "Epoch 49/50\n",
            "159/159 [==============================] - 1s 7ms/step - loss: 0.0073\n",
            "Epoch 50/50\n",
            "159/159 [==============================] - 1s 7ms/step - loss: 0.0076\n"
          ]
        },
        {
          "output_type": "execute_result",
          "data": {
            "text/plain": [
              "<keras.callbacks.History at 0x7f519e3eeb90>"
            ]
          },
          "metadata": {},
          "execution_count": 40
        }
      ]
    },
    {
      "cell_type": "code",
      "source": [
        "loss_per_epoch = model.history.history['loss']\n",
        "plt.plot(range(len(loss_per_epoch)),loss_per_epoch)"
      ],
      "metadata": {
        "colab": {
          "base_uri": "https://localhost:8080/",
          "height": 385
        },
        "id": "FBsXumbSt6wf",
        "outputId": "ee63b882-0cf0-4b9c-f7f8-213398ca8782"
      },
      "execution_count": 41,
      "outputs": [
        {
          "output_type": "execute_result",
          "data": {
            "text/plain": [
              "[<matplotlib.lines.Line2D at 0x7f519b909350>]"
            ]
          },
          "metadata": {},
          "execution_count": 41
        },
        {
          "output_type": "display_data",
          "data": {
            "image/png": "[encoded data removed]",
            "text/plain": [
              "<Figure size 1080x432 with 1 Axes>"
            ]
          },
          "metadata": {
            "needs_background": "light"
          }
        }
      ]
    },
    {
      "cell_type": "code",
      "source": [
        "last_train_batch_alt = scaled_treino_ae[-12:]\n",
        "last_train_batch_tucu = scaled_treino_tuc[-12:]"
      ],
      "metadata": {
        "id": "3MCEbyYLufVy"
      },
      "execution_count": 42,
      "outputs": []
    },
    {
      "cell_type": "code",
      "source": [
        "last_train_batch_alt = last_train_batch_alt.reshape((1, n_input, n_features))\n",
        "last_train_batch_tucu = last_train_batch_tucu.reshape((1, n_input, n_features))"
      ],
      "metadata": {
        "id": "KJ1kf9EvvCH1"
      },
      "execution_count": 43,
      "outputs": []
    },
    {
      "cell_type": "code",
      "source": [
        "model.predict(last_train_batch_alt)"
      ],
      "metadata": {
        "colab": {
          "base_uri": "https://localhost:8080/"
        },
        "id": "NRHzUzK_vL1N",
        "outputId": "28c66758-952c-40b9-84e0-db986c4dd7be"
      },
      "execution_count": 44,
      "outputs": [
        {
          "output_type": "execute_result",
          "data": {
            "text/plain": [
              "array([[0.18492809]], dtype=float32)"
            ]
          },
          "metadata": {},
          "execution_count": 44
        }
      ]
    },
    {
      "cell_type": "code",
      "source": [
        "model.predict(last_train_batch_tucu)"
      ],
      "metadata": {
        "colab": {
          "base_uri": "https://localhost:8080/"
        },
        "id": "-djTL-TtvRG_",
        "outputId": "1aeb8c1d-82db-4245-91d8-2795702176e3"
      },
      "execution_count": 45,
      "outputs": [
        {
          "output_type": "execute_result",
          "data": {
            "text/plain": [
              "array([[0.11046731]], dtype=float32)"
            ]
          },
          "metadata": {},
          "execution_count": 45
        }
      ]
    },
    {
      "cell_type": "code",
      "source": [
        "scaled_teste_ae[0]"
      ],
      "metadata": {
        "colab": {
          "base_uri": "https://localhost:8080/"
        },
        "id": "qNtUYu1HvVrD",
        "outputId": "7d434050-b63a-47c3-8ba2-896171f241a9"
      },
      "execution_count": 46,
      "outputs": [
        {
          "output_type": "execute_result",
          "data": {
            "text/plain": [
              "array([0.11519608])"
            ]
          },
          "metadata": {},
          "execution_count": 46
        }
      ]
    },
    {
      "cell_type": "code",
      "source": [
        "scaled_teste_tuc[0]"
      ],
      "metadata": {
        "colab": {
          "base_uri": "https://localhost:8080/"
        },
        "id": "ZKW4F7mfvgqr",
        "outputId": "27f1171a-b243-43e4-d8c2-1e3d6f3ed693"
      },
      "execution_count": 47,
      "outputs": [
        {
          "output_type": "execute_result",
          "data": {
            "text/plain": [
              "array([0.08010108])"
            ]
          },
          "metadata": {},
          "execution_count": 47
        }
      ]
    },
    {
      "cell_type": "code",
      "source": [
        "#test_pred Altamira\n",
        "\n",
        "test_predictions_alt = []\n",
        "\n",
        "first_eval_batch = scaled_treino_ae[-n_input:]\n",
        "current_batch = first_eval_batch.reshape((1, n_input, n_features))\n",
        "\n",
        "for i in range(len(test_alt)):\n",
        "    \n",
        "    # get the prediction value for the first batch\n",
        "    current_pred = model.predict(current_batch)[0]\n",
        "    \n",
        "    # append the prediction into the array\n",
        "    test_predictions_alt.append(current_pred) \n",
        "    \n",
        "    # use the prediction to update the batch and remove the first value\n",
        "    current_batch = np.append(current_batch[:,1:,:],[[current_pred]],axis=1)"
      ],
      "metadata": {
        "id": "rY10HJqcvjjQ"
      },
      "execution_count": 54,
      "outputs": []
    },
    {
      "cell_type": "code",
      "source": [
        "#test_pred Tucuruí\n",
        "\n",
        "test_predictions_tucu = []\n",
        "\n",
        "first_eval_batch = scaled_treino_tuc[-n_input:]\n",
        "current_batch = first_eval_batch.reshape((1, n_input, n_features))\n",
        "\n",
        "for i in range(len(test_tucu)):\n",
        "    \n",
        "    # get the prediction value for the first batch\n",
        "    current_pred = model.predict(current_batch)[0]\n",
        "    \n",
        "    # append the prediction into the array\n",
        "    test_predictions_tucu.append(current_pred) \n",
        "    \n",
        "    # use the prediction to update the batch and remove the first value\n",
        "    current_batch = np.append(current_batch[:,1:,:],[[current_pred]],axis=1)"
      ],
      "metadata": {
        "id": "m6CStxjev1pv"
      },
      "execution_count": 53,
      "outputs": []
    },
    {
      "cell_type": "code",
      "source": [
        "test_predictions_tucu"
      ],
      "metadata": {
        "colab": {
          "base_uri": "https://localhost:8080/"
        },
        "id": "X0QoxMruw3Su",
        "outputId": "cd3e7b52-ef4c-4f34-f78e-39407050063c"
      },
      "execution_count": 57,
      "outputs": [
        {
          "output_type": "execute_result",
          "data": {
            "text/plain": [
              "[array([0.11046731], dtype=float32),\n",
              " array([0.13054237], dtype=float32),\n",
              " array([0.13948625], dtype=float32),\n",
              " array([0.12145609], dtype=float32),\n",
              " array([0.1134604], dtype=float32),\n",
              " array([0.11611596], dtype=float32),\n",
              " array([0.10913289], dtype=float32),\n",
              " array([0.09906089], dtype=float32),\n",
              " array([0.09083122], dtype=float32),\n",
              " array([0.08303303], dtype=float32),\n",
              " array([0.07721446], dtype=float32),\n",
              " array([0.07622914], dtype=float32),\n",
              " array([0.07240537], dtype=float32),\n",
              " array([0.0714194], dtype=float32),\n",
              " array([0.07229569], dtype=float32),\n",
              " array([0.07247924], dtype=float32),\n",
              " array([0.07335487], dtype=float32),\n",
              " array([0.07507749], dtype=float32),\n",
              " array([0.07675319], dtype=float32),\n",
              " array([0.07832761], dtype=float32)]"
            ]
          },
          "metadata": {},
          "execution_count": 57
        }
      ]
    },
    {
      "cell_type": "code",
      "source": [
        "test_tucu.head()"
      ],
      "metadata": {
        "colab": {
          "base_uri": "https://localhost:8080/",
          "height": 238
        },
        "id": "Vs0UW6__xEJa",
        "outputId": "e8d55455-cb15-4d26-e2ca-88c86f802443"
      },
      "execution_count": 58,
      "outputs": [
        {
          "output_type": "execute_result",
          "data": {
            "text/html": [
              "\n",
              "  <div id=\"df-df7e0ea8-2005-4e45-be81-52032226a469\">\n",
              "    <div class=\"colab-df-container\">\n",
              "      <div>\n",
              "<style scoped>\n",
              "    .dataframe tbody tr th:only-of-type {\n",
              "        vertical-align: middle;\n",
              "    }\n",
              "\n",
              "    .dataframe tbody tr th {\n",
              "        vertical-align: top;\n",
              "    }\n",
              "\n",
              "    .dataframe thead th {\n",
              "        text-align: right;\n",
              "    }\n",
              "</style>\n",
              "<table border=\"1\" class=\"dataframe\">\n",
              "  <thead>\n",
              "    <tr style=\"text-align: right;\">\n",
              "      <th></th>\n",
              "      <th>Tucurui</th>\n",
              "    </tr>\n",
              "    <tr>\n",
              "      <th>tempo</th>\n",
              "      <th></th>\n",
              "    </tr>\n",
              "  </thead>\n",
              "  <tbody>\n",
              "    <tr>\n",
              "      <th>2018-05-01</th>\n",
              "      <td>4.090268</td>\n",
              "    </tr>\n",
              "    <tr>\n",
              "      <th>2018-06-01</th>\n",
              "      <td>2.187721</td>\n",
              "    </tr>\n",
              "    <tr>\n",
              "      <th>2018-07-01</th>\n",
              "      <td>4.802260</td>\n",
              "    </tr>\n",
              "    <tr>\n",
              "      <th>2018-08-01</th>\n",
              "      <td>1.130742</td>\n",
              "    </tr>\n",
              "    <tr>\n",
              "      <th>2018-09-01</th>\n",
              "      <td>1.838755</td>\n",
              "    </tr>\n",
              "  </tbody>\n",
              "</table>\n",
              "</div>\n",
              "      <button class=\"colab-df-convert\" onclick=\"convertToInteractive('df-df7e0ea8-2005-4e45-be81-52032226a469')\"\n",
              "              title=\"Convert this dataframe to an interactive table.\"\n",
              "              style=\"display:none;\">\n",
              "        \n",
              "  <svg xmlns=\"http://www.w3.org/2000/svg\" height=\"24px\"viewBox=\"0 0 24 24\"\n",
              "       width=\"24px\">\n",
              "    <path d=\"M0 0h24v24H0V0z\" fill=\"none\"/>\n",
              "    <path d=\"M18.56 5.44l.94 2.06.94-2.06 2.06-.94-2.06-.94-.94-2.06-.94 2.06-2.06.94zm-11 1L8.5 8.5l.94-2.06 2.06-.94-2.06-.94L8.5 2.5l-.94 2.06-2.06.94zm10 10l.94 2.06.94-2.06 2.06-.94-2.06-.94-.94-2.06-.94 2.06-2.06.94z\"/><path d=\"M17.41 7.96l-1.37-1.37c-.4-.4-.92-.59-1.43-.59-.52 0-1.04.2-1.43.59L10.3 9.45l-7.72 7.72c-.78.78-.78 2.05 0 2.83L4 21.41c.39.39.9.59 1.41.59.51 0 1.02-.2 1.41-.59l7.78-7.78 2.81-2.81c.8-.78.8-2.07 0-2.86zM5.41 20L4 18.59l7.72-7.72 1.47 1.35L5.41 20z\"/>\n",
              "  </svg>\n",
              "      </button>\n",
              "      \n",
              "  <style>\n",
              "    .colab-df-container {\n",
              "      display:flex;\n",
              "      flex-wrap:wrap;\n",
              "      gap: 12px;\n",
              "    }\n",
              "\n",
              "    .colab-df-convert {\n",
              "      background-color: #E8F0FE;\n",
              "      border: none;\n",
              "      border-radius: 50%;\n",
              "      cursor: pointer;\n",
              "      display: none;\n",
              "      fill: #1967D2;\n",
              "      height: 32px;\n",
              "      padding: 0 0 0 0;\n",
              "      width: 32px;\n",
              "    }\n",
              "\n",
              "    .colab-df-convert:hover {\n",
              "      background-color: #E2EBFA;\n",
              "      box-shadow: 0px 1px 2px rgba(60, 64, 67, 0.3), 0px 1px 3px 1px rgba(60, 64, 67, 0.15);\n",
              "      fill: #174EA6;\n",
              "    }\n",
              "\n",
              "    [theme=dark] .colab-df-convert {\n",
              "      background-color: #3B4455;\n",
              "      fill: #D2E3FC;\n",
              "    }\n",
              "\n",
              "    [theme=dark] .colab-df-convert:hover {\n",
              "      background-color: #434B5C;\n",
              "      box-shadow: 0px 1px 3px 1px rgba(0, 0, 0, 0.15);\n",
              "      filter: drop-shadow(0px 1px 2px rgba(0, 0, 0, 0.3));\n",
              "      fill: #FFFFFF;\n",
              "    }\n",
              "  </style>\n",
              "\n",
              "      <script>\n",
              "        const buttonEl =\n",
              "          document.querySelector('#df-df7e0ea8-2005-4e45-be81-52032226a469 button.colab-df-convert');\n",
              "        buttonEl.style.display =\n",
              "          google.colab.kernel.accessAllowed ? 'block' : 'none';\n",
              "\n",
              "        async function convertToInteractive(key) {\n",
              "          const element = document.querySelector('#df-df7e0ea8-2005-4e45-be81-52032226a469');\n",
              "          const dataTable =\n",
              "            await google.colab.kernel.invokeFunction('convertToInteractive',\n",
              "                                                     [key], {});\n",
              "          if (!dataTable) return;\n",
              "\n",
              "          const docLinkHtml = 'Like what you see? Visit the ' +\n",
              "            '<a target=\"_blank\" href=https://colab.research.google.com/notebooks/data_table.ipynb>data table notebook</a>'\n",
              "            + ' to learn more about interactive tables.';\n",
              "          element.innerHTML = '';\n",
              "          dataTable['output_type'] = 'display_data';\n",
              "          await google.colab.output.renderOutput(dataTable, element);\n",
              "          const docLink = document.createElement('div');\n",
              "          docLink.innerHTML = docLinkHtml;\n",
              "          element.appendChild(docLink);\n",
              "        }\n",
              "      </script>\n",
              "    </div>\n",
              "  </div>\n",
              "  "
            ],
            "text/plain": [
              "             Tucurui\n",
              "tempo               \n",
              "2018-05-01  4.090268\n",
              "2018-06-01  2.187721\n",
              "2018-07-01  4.802260\n",
              "2018-08-01  1.130742\n",
              "2018-09-01  1.838755"
            ]
          },
          "metadata": {},
          "execution_count": 58
        }
      ]
    },
    {
      "cell_type": "code",
      "source": [
        "true_predictions_tucu = scaler.inverse_transform(test_predictions_tucu)"
      ],
      "metadata": {
        "id": "UZPx0PSjxRGH"
      },
      "execution_count": 59,
      "outputs": []
    },
    {
      "cell_type": "code",
      "source": [
        "test_tucu['Predictions'] = true_predictions_tucu"
      ],
      "metadata": {
        "colab": {
          "base_uri": "https://localhost:8080/"
        },
        "id": "NxW03BDj2grJ",
        "outputId": "0db4dbc6-61dc-49c0-e24a-1e55cb8fbb8d"
      },
      "execution_count": 60,
      "outputs": [
        {
          "output_type": "stream",
          "name": "stderr",
          "text": [
            "/usr/local/lib/python3.7/dist-packages/ipykernel_launcher.py:1: SettingWithCopyWarning: \n",
            "A value is trying to be set on a copy of a slice from a DataFrame.\n",
            "Try using .loc[row_indexer,col_indexer] = value instead\n",
            "\n",
            "See the caveats in the documentation: https://pandas.pydata.org/pandas-docs/stable/user_guide/indexing.html#returning-a-view-versus-a-copy\n",
            "  \"\"\"Entry point for launching an IPython kernel.\n"
          ]
        }
      ]
    },
    {
      "cell_type": "code",
      "source": [
        "test_tucu"
      ],
      "metadata": {
        "colab": {
          "base_uri": "https://localhost:8080/",
          "height": 708
        },
        "id": "FbcK-9dU2pgJ",
        "outputId": "a1aee40f-e08b-477a-b6f6-a2d2824b94ce"
      },
      "execution_count": 61,
      "outputs": [
        {
          "output_type": "execute_result",
          "data": {
            "text/html": [
              "\n",
              "  <div id=\"df-d9e17360-5dc8-4d24-b841-4e3840d876e0\">\n",
              "    <div class=\"colab-df-container\">\n",
              "      <div>\n",
              "<style scoped>\n",
              "    .dataframe tbody tr th:only-of-type {\n",
              "        vertical-align: middle;\n",
              "    }\n",
              "\n",
              "    .dataframe tbody tr th {\n",
              "        vertical-align: top;\n",
              "    }\n",
              "\n",
              "    .dataframe thead th {\n",
              "        text-align: right;\n",
              "    }\n",
              "</style>\n",
              "<table border=\"1\" class=\"dataframe\">\n",
              "  <thead>\n",
              "    <tr style=\"text-align: right;\">\n",
              "      <th></th>\n",
              "      <th>Tucurui</th>\n",
              "      <th>Predictions</th>\n",
              "    </tr>\n",
              "    <tr>\n",
              "      <th>tempo</th>\n",
              "      <th></th>\n",
              "      <th></th>\n",
              "    </tr>\n",
              "  </thead>\n",
              "  <tbody>\n",
              "    <tr>\n",
              "      <th>2018-05-01</th>\n",
              "      <td>4.090268</td>\n",
              "      <td>5.640884</td>\n",
              "    </tr>\n",
              "    <tr>\n",
              "      <th>2018-06-01</th>\n",
              "      <td>2.187721</td>\n",
              "      <td>6.665993</td>\n",
              "    </tr>\n",
              "    <tr>\n",
              "      <th>2018-07-01</th>\n",
              "      <td>4.802260</td>\n",
              "      <td>7.122702</td>\n",
              "    </tr>\n",
              "    <tr>\n",
              "      <th>2018-08-01</th>\n",
              "      <td>1.130742</td>\n",
              "      <td>6.202013</td>\n",
              "    </tr>\n",
              "    <tr>\n",
              "      <th>2018-09-01</th>\n",
              "      <td>1.838755</td>\n",
              "      <td>5.793723</td>\n",
              "    </tr>\n",
              "    <tr>\n",
              "      <th>2018-10-01</th>\n",
              "      <td>5.237084</td>\n",
              "      <td>5.929326</td>\n",
              "    </tr>\n",
              "    <tr>\n",
              "      <th>2018-11-01</th>\n",
              "      <td>6.657224</td>\n",
              "      <td>5.572743</td>\n",
              "    </tr>\n",
              "    <tr>\n",
              "      <th>2018-12-01</th>\n",
              "      <td>3.543586</td>\n",
              "      <td>5.058429</td>\n",
              "    </tr>\n",
              "    <tr>\n",
              "      <th>2019-01-01</th>\n",
              "      <td>8.581560</td>\n",
              "      <td>4.638190</td>\n",
              "    </tr>\n",
              "    <tr>\n",
              "      <th>2019-02-01</th>\n",
              "      <td>4.065896</td>\n",
              "      <td>4.239985</td>\n",
              "    </tr>\n",
              "    <tr>\n",
              "      <th>2019-03-01</th>\n",
              "      <td>1.998597</td>\n",
              "      <td>3.942866</td>\n",
              "    </tr>\n",
              "    <tr>\n",
              "      <th>2019-04-01</th>\n",
              "      <td>3.472466</td>\n",
              "      <td>3.892552</td>\n",
              "    </tr>\n",
              "    <tr>\n",
              "      <th>2019-05-01</th>\n",
              "      <td>2.315789</td>\n",
              "      <td>3.697295</td>\n",
              "    </tr>\n",
              "    <tr>\n",
              "      <th>2019-06-01</th>\n",
              "      <td>1.263601</td>\n",
              "      <td>3.646948</td>\n",
              "    </tr>\n",
              "    <tr>\n",
              "      <th>2019-07-01</th>\n",
              "      <td>2.422753</td>\n",
              "      <td>3.691695</td>\n",
              "    </tr>\n",
              "    <tr>\n",
              "      <th>2019-08-01</th>\n",
              "      <td>2.072357</td>\n",
              "      <td>3.701068</td>\n",
              "    </tr>\n",
              "    <tr>\n",
              "      <th>2019-09-01</th>\n",
              "      <td>1.932537</td>\n",
              "      <td>3.745781</td>\n",
              "    </tr>\n",
              "    <tr>\n",
              "      <th>2019-10-01</th>\n",
              "      <td>1.265378</td>\n",
              "      <td>3.833744</td>\n",
              "    </tr>\n",
              "    <tr>\n",
              "      <th>2019-11-01</th>\n",
              "      <td>0.351617</td>\n",
              "      <td>3.919312</td>\n",
              "    </tr>\n",
              "    <tr>\n",
              "      <th>2019-12-01</th>\n",
              "      <td>0.070348</td>\n",
              "      <td>3.999708</td>\n",
              "    </tr>\n",
              "  </tbody>\n",
              "</table>\n",
              "</div>\n",
              "      <button class=\"colab-df-convert\" onclick=\"convertToInteractive('df-d9e17360-5dc8-4d24-b841-4e3840d876e0')\"\n",
              "              title=\"Convert this dataframe to an interactive table.\"\n",
              "              style=\"display:none;\">\n",
              "        \n",
              "  <svg xmlns=\"http://www.w3.org/2000/svg\" height=\"24px\"viewBox=\"0 0 24 24\"\n",
              "       width=\"24px\">\n",
              "    <path d=\"M0 0h24v24H0V0z\" fill=\"none\"/>\n",
              "    <path d=\"M18.56 5.44l.94 2.06.94-2.06 2.06-.94-2.06-.94-.94-2.06-.94 2.06-2.06.94zm-11 1L8.5 8.5l.94-2.06 2.06-.94-2.06-.94L8.5 2.5l-.94 2.06-2.06.94zm10 10l.94 2.06.94-2.06 2.06-.94-2.06-.94-.94-2.06-.94 2.06-2.06.94z\"/><path d=\"M17.41 7.96l-1.37-1.37c-.4-.4-.92-.59-1.43-.59-.52 0-1.04.2-1.43.59L10.3 9.45l-7.72 7.72c-.78.78-.78 2.05 0 2.83L4 21.41c.39.39.9.59 1.41.59.51 0 1.02-.2 1.41-.59l7.78-7.78 2.81-2.81c.8-.78.8-2.07 0-2.86zM5.41 20L4 18.59l7.72-7.72 1.47 1.35L5.41 20z\"/>\n",
              "  </svg>\n",
              "      </button>\n",
              "      \n",
              "  <style>\n",
              "    .colab-df-container {\n",
              "      display:flex;\n",
              "      flex-wrap:wrap;\n",
              "      gap: 12px;\n",
              "    }\n",
              "\n",
              "    .colab-df-convert {\n",
              "      background-color: #E8F0FE;\n",
              "      border: none;\n",
              "      border-radius: 50%;\n",
              "      cursor: pointer;\n",
              "      display: none;\n",
              "      fill: #1967D2;\n",
              "      height: 32px;\n",
              "      padding: 0 0 0 0;\n",
              "      width: 32px;\n",
              "    }\n",
              "\n",
              "    .colab-df-convert:hover {\n",
              "      background-color: #E2EBFA;\n",
              "      box-shadow: 0px 1px 2px rgba(60, 64, 67, 0.3), 0px 1px 3px 1px rgba(60, 64, 67, 0.15);\n",
              "      fill: #174EA6;\n",
              "    }\n",
              "\n",
              "    [theme=dark] .colab-df-convert {\n",
              "      background-color: #3B4455;\n",
              "      fill: #D2E3FC;\n",
              "    }\n",
              "\n",
              "    [theme=dark] .colab-df-convert:hover {\n",
              "      background-color: #434B5C;\n",
              "      box-shadow: 0px 1px 3px 1px rgba(0, 0, 0, 0.15);\n",
              "      filter: drop-shadow(0px 1px 2px rgba(0, 0, 0, 0.3));\n",
              "      fill: #FFFFFF;\n",
              "    }\n",
              "  </style>\n",
              "\n",
              "      <script>\n",
              "        const buttonEl =\n",
              "          document.querySelector('#df-d9e17360-5dc8-4d24-b841-4e3840d876e0 button.colab-df-convert');\n",
              "        buttonEl.style.display =\n",
              "          google.colab.kernel.accessAllowed ? 'block' : 'none';\n",
              "\n",
              "        async function convertToInteractive(key) {\n",
              "          const element = document.querySelector('#df-d9e17360-5dc8-4d24-b841-4e3840d876e0');\n",
              "          const dataTable =\n",
              "            await google.colab.kernel.invokeFunction('convertToInteractive',\n",
              "                                                     [key], {});\n",
              "          if (!dataTable) return;\n",
              "\n",
              "          const docLinkHtml = 'Like what you see? Visit the ' +\n",
              "            '<a target=\"_blank\" href=https://colab.research.google.com/notebooks/data_table.ipynb>data table notebook</a>'\n",
              "            + ' to learn more about interactive tables.';\n",
              "          element.innerHTML = '';\n",
              "          dataTable['output_type'] = 'display_data';\n",
              "          await google.colab.output.renderOutput(dataTable, element);\n",
              "          const docLink = document.createElement('div');\n",
              "          docLink.innerHTML = docLinkHtml;\n",
              "          element.appendChild(docLink);\n",
              "        }\n",
              "      </script>\n",
              "    </div>\n",
              "  </div>\n",
              "  "
            ],
            "text/plain": [
              "             Tucurui  Predictions\n",
              "tempo                            \n",
              "2018-05-01  4.090268     5.640884\n",
              "2018-06-01  2.187721     6.665993\n",
              "2018-07-01  4.802260     7.122702\n",
              "2018-08-01  1.130742     6.202013\n",
              "2018-09-01  1.838755     5.793723\n",
              "2018-10-01  5.237084     5.929326\n",
              "2018-11-01  6.657224     5.572743\n",
              "2018-12-01  3.543586     5.058429\n",
              "2019-01-01  8.581560     4.638190\n",
              "2019-02-01  4.065896     4.239985\n",
              "2019-03-01  1.998597     3.942866\n",
              "2019-04-01  3.472466     3.892552\n",
              "2019-05-01  2.315789     3.697295\n",
              "2019-06-01  1.263601     3.646948\n",
              "2019-07-01  2.422753     3.691695\n",
              "2019-08-01  2.072357     3.701068\n",
              "2019-09-01  1.932537     3.745781\n",
              "2019-10-01  1.265378     3.833744\n",
              "2019-11-01  0.351617     3.919312\n",
              "2019-12-01  0.070348     3.999708"
            ]
          },
          "metadata": {},
          "execution_count": 61
        }
      ]
    },
    {
      "cell_type": "code",
      "source": [
        "test_tucu.plot(figsize=(14,5))"
      ],
      "metadata": {
        "colab": {
          "base_uri": "https://localhost:8080/",
          "height": 362
        },
        "id": "2YA2t63c2sjf",
        "outputId": "5c0c4d9e-8e8a-4571-c4b3-92fd208771b7"
      },
      "execution_count": 62,
      "outputs": [
        {
          "output_type": "execute_result",
          "data": {
            "text/plain": [
              "<matplotlib.axes._subplots.AxesSubplot at 0x7f519cf72350>"
            ]
          },
          "metadata": {},
          "execution_count": 62
        },
        {
          "output_type": "display_data",
          "data": {
            "image/png": "[encoded data removed]",
            "text/plain": [
              "<Figure size 1008x360 with 1 Axes>"
            ]
          },
          "metadata": {
            "needs_background": "light"
          }
        }
      ]
    },
    {
      "cell_type": "code",
      "source": [
        "true_predictions_alt = scaler.inverse_transform(test_predictions_alt)"
      ],
      "metadata": {
        "id": "SantEuZK22IQ"
      },
      "execution_count": 63,
      "outputs": []
    },
    {
      "cell_type": "code",
      "source": [
        "test_alt['Predictions'] = true_predictions_alt"
      ],
      "metadata": {
        "colab": {
          "base_uri": "https://localhost:8080/"
        },
        "id": "1dfMgmLo3Onl",
        "outputId": "9b4f5037-aa78-4afd-aefa-5ca4ae221228"
      },
      "execution_count": 64,
      "outputs": [
        {
          "output_type": "stream",
          "name": "stderr",
          "text": [
            "/usr/local/lib/python3.7/dist-packages/ipykernel_launcher.py:1: SettingWithCopyWarning: \n",
            "A value is trying to be set on a copy of a slice from a DataFrame.\n",
            "Try using .loc[row_indexer,col_indexer] = value instead\n",
            "\n",
            "See the caveats in the documentation: https://pandas.pydata.org/pandas-docs/stable/user_guide/indexing.html#returning-a-view-versus-a-copy\n",
            "  \"\"\"Entry point for launching an IPython kernel.\n"
          ]
        }
      ]
    },
    {
      "cell_type": "code",
      "source": [
        "test_alt"
      ],
      "metadata": {
        "colab": {
          "base_uri": "https://localhost:8080/",
          "height": 708
        },
        "id": "iYNXwh0X3Rp3",
        "outputId": "13e17014-37b6-4d2d-b1d0-e3fb880e41f2"
      },
      "execution_count": 65,
      "outputs": [
        {
          "output_type": "execute_result",
          "data": {
            "text/html": [
              "\n",
              "  <div id=\"df-ebc57485-c195-4ef9-b83b-4ef265cd5308\">\n",
              "    <div class=\"colab-df-container\">\n",
              "      <div>\n",
              "<style scoped>\n",
              "    .dataframe tbody tr th:only-of-type {\n",
              "        vertical-align: middle;\n",
              "    }\n",
              "\n",
              "    .dataframe tbody tr th {\n",
              "        vertical-align: top;\n",
              "    }\n",
              "\n",
              "    .dataframe thead th {\n",
              "        text-align: right;\n",
              "    }\n",
              "</style>\n",
              "<table border=\"1\" class=\"dataframe\">\n",
              "  <thead>\n",
              "    <tr style=\"text-align: right;\">\n",
              "      <th></th>\n",
              "      <th>Altamira</th>\n",
              "      <th>Predictions</th>\n",
              "    </tr>\n",
              "    <tr>\n",
              "      <th>tempo</th>\n",
              "      <th></th>\n",
              "      <th></th>\n",
              "    </tr>\n",
              "  </thead>\n",
              "  <tbody>\n",
              "    <tr>\n",
              "      <th>2018-05-01</th>\n",
              "      <td>5.882353</td>\n",
              "      <td>9.443136</td>\n",
              "    </tr>\n",
              "    <tr>\n",
              "      <th>2018-06-01</th>\n",
              "      <td>0.591716</td>\n",
              "      <td>9.030872</td>\n",
              "    </tr>\n",
              "    <tr>\n",
              "      <th>2018-07-01</th>\n",
              "      <td>4.761905</td>\n",
              "      <td>8.356474</td>\n",
              "    </tr>\n",
              "    <tr>\n",
              "      <th>2018-08-01</th>\n",
              "      <td>2.395210</td>\n",
              "      <td>7.307293</td>\n",
              "    </tr>\n",
              "    <tr>\n",
              "      <th>2018-09-01</th>\n",
              "      <td>4.216867</td>\n",
              "      <td>7.019801</td>\n",
              "    </tr>\n",
              "    <tr>\n",
              "      <th>2018-10-01</th>\n",
              "      <td>4.242424</td>\n",
              "      <td>7.728248</td>\n",
              "    </tr>\n",
              "    <tr>\n",
              "      <th>2018-11-01</th>\n",
              "      <td>1.219512</td>\n",
              "      <td>7.651690</td>\n",
              "    </tr>\n",
              "    <tr>\n",
              "      <th>2018-12-01</th>\n",
              "      <td>16.564417</td>\n",
              "      <td>5.648867</td>\n",
              "    </tr>\n",
              "    <tr>\n",
              "      <th>2019-01-01</th>\n",
              "      <td>5.555556</td>\n",
              "      <td>5.497543</td>\n",
              "    </tr>\n",
              "    <tr>\n",
              "      <th>2019-02-01</th>\n",
              "      <td>7.518797</td>\n",
              "      <td>5.887777</td>\n",
              "    </tr>\n",
              "    <tr>\n",
              "      <th>2019-03-01</th>\n",
              "      <td>4.545455</td>\n",
              "      <td>5.435761</td>\n",
              "    </tr>\n",
              "    <tr>\n",
              "      <th>2019-04-01</th>\n",
              "      <td>15.267176</td>\n",
              "      <td>4.830474</td>\n",
              "    </tr>\n",
              "    <tr>\n",
              "      <th>2019-05-01</th>\n",
              "      <td>8.461538</td>\n",
              "      <td>4.751093</td>\n",
              "    </tr>\n",
              "    <tr>\n",
              "      <th>2019-06-01</th>\n",
              "      <td>9.302326</td>\n",
              "      <td>4.610380</td>\n",
              "    </tr>\n",
              "    <tr>\n",
              "      <th>2019-07-01</th>\n",
              "      <td>7.812500</td>\n",
              "      <td>4.430983</td>\n",
              "    </tr>\n",
              "    <tr>\n",
              "      <th>2019-08-01</th>\n",
              "      <td>8.661417</td>\n",
              "      <td>4.197303</td>\n",
              "    </tr>\n",
              "    <tr>\n",
              "      <th>2019-09-01</th>\n",
              "      <td>16.666667</td>\n",
              "      <td>4.054127</td>\n",
              "    </tr>\n",
              "    <tr>\n",
              "      <th>2019-10-01</th>\n",
              "      <td>9.600000</td>\n",
              "      <td>4.077618</td>\n",
              "    </tr>\n",
              "    <tr>\n",
              "      <th>2019-11-01</th>\n",
              "      <td>3.225806</td>\n",
              "      <td>4.090794</td>\n",
              "    </tr>\n",
              "    <tr>\n",
              "      <th>2019-12-01</th>\n",
              "      <td>0.813008</td>\n",
              "      <td>3.991418</td>\n",
              "    </tr>\n",
              "  </tbody>\n",
              "</table>\n",
              "</div>\n",
              "      <button class=\"colab-df-convert\" onclick=\"convertToInteractive('df-ebc57485-c195-4ef9-b83b-4ef265cd5308')\"\n",
              "              title=\"Convert this dataframe to an interactive table.\"\n",
              "              style=\"display:none;\">\n",
              "        \n",
              "  <svg xmlns=\"http://www.w3.org/2000/svg\" height=\"24px\"viewBox=\"0 0 24 24\"\n",
              "       width=\"24px\">\n",
              "    <path d=\"M0 0h24v24H0V0z\" fill=\"none\"/>\n",
              "    <path d=\"M18.56 5.44l.94 2.06.94-2.06 2.06-.94-2.06-.94-.94-2.06-.94 2.06-2.06.94zm-11 1L8.5 8.5l.94-2.06 2.06-.94-2.06-.94L8.5 2.5l-.94 2.06-2.06.94zm10 10l.94 2.06.94-2.06 2.06-.94-2.06-.94-.94-2.06-.94 2.06-2.06.94z\"/><path d=\"M17.41 7.96l-1.37-1.37c-.4-.4-.92-.59-1.43-.59-.52 0-1.04.2-1.43.59L10.3 9.45l-7.72 7.72c-.78.78-.78 2.05 0 2.83L4 21.41c.39.39.9.59 1.41.59.51 0 1.02-.2 1.41-.59l7.78-7.78 2.81-2.81c.8-.78.8-2.07 0-2.86zM5.41 20L4 18.59l7.72-7.72 1.47 1.35L5.41 20z\"/>\n",
              "  </svg>\n",
              "      </button>\n",
              "      \n",
              "  <style>\n",
              "    .colab-df-container {\n",
              "      display:flex;\n",
              "      flex-wrap:wrap;\n",
              "      gap: 12px;\n",
              "    }\n",
              "\n",
              "    .colab-df-convert {\n",
              "      background-color: #E8F0FE;\n",
              "      border: none;\n",
              "      border-radius: 50%;\n",
              "      cursor: pointer;\n",
              "      display: none;\n",
              "      fill: #1967D2;\n",
              "      height: 32px;\n",
              "      padding: 0 0 0 0;\n",
              "      width: 32px;\n",
              "    }\n",
              "\n",
              "    .colab-df-convert:hover {\n",
              "      background-color: #E2EBFA;\n",
              "      box-shadow: 0px 1px 2px rgba(60, 64, 67, 0.3), 0px 1px 3px 1px rgba(60, 64, 67, 0.15);\n",
              "      fill: #174EA6;\n",
              "    }\n",
              "\n",
              "    [theme=dark] .colab-df-convert {\n",
              "      background-color: #3B4455;\n",
              "      fill: #D2E3FC;\n",
              "    }\n",
              "\n",
              "    [theme=dark] .colab-df-convert:hover {\n",
              "      background-color: #434B5C;\n",
              "      box-shadow: 0px 1px 3px 1px rgba(0, 0, 0, 0.15);\n",
              "      filter: drop-shadow(0px 1px 2px rgba(0, 0, 0, 0.3));\n",
              "      fill: #FFFFFF;\n",
              "    }\n",
              "  </style>\n",
              "\n",
              "      <script>\n",
              "        const buttonEl =\n",
              "          document.querySelector('#df-ebc57485-c195-4ef9-b83b-4ef265cd5308 button.colab-df-convert');\n",
              "        buttonEl.style.display =\n",
              "          google.colab.kernel.accessAllowed ? 'block' : 'none';\n",
              "\n",
              "        async function convertToInteractive(key) {\n",
              "          const element = document.querySelector('#df-ebc57485-c195-4ef9-b83b-4ef265cd5308');\n",
              "          const dataTable =\n",
              "            await google.colab.kernel.invokeFunction('convertToInteractive',\n",
              "                                                     [key], {});\n",
              "          if (!dataTable) return;\n",
              "\n",
              "          const docLinkHtml = 'Like what you see? Visit the ' +\n",
              "            '<a target=\"_blank\" href=https://colab.research.google.com/notebooks/data_table.ipynb>data table notebook</a>'\n",
              "            + ' to learn more about interactive tables.';\n",
              "          element.innerHTML = '';\n",
              "          dataTable['output_type'] = 'display_data';\n",
              "          await google.colab.output.renderOutput(dataTable, element);\n",
              "          const docLink = document.createElement('div');\n",
              "          docLink.innerHTML = docLinkHtml;\n",
              "          element.appendChild(docLink);\n",
              "        }\n",
              "      </script>\n",
              "    </div>\n",
              "  </div>\n",
              "  "
            ],
            "text/plain": [
              "             Altamira  Predictions\n",
              "tempo                             \n",
              "2018-05-01   5.882353     9.443136\n",
              "2018-06-01   0.591716     9.030872\n",
              "2018-07-01   4.761905     8.356474\n",
              "2018-08-01   2.395210     7.307293\n",
              "2018-09-01   4.216867     7.019801\n",
              "2018-10-01   4.242424     7.728248\n",
              "2018-11-01   1.219512     7.651690\n",
              "2018-12-01  16.564417     5.648867\n",
              "2019-01-01   5.555556     5.497543\n",
              "2019-02-01   7.518797     5.887777\n",
              "2019-03-01   4.545455     5.435761\n",
              "2019-04-01  15.267176     4.830474\n",
              "2019-05-01   8.461538     4.751093\n",
              "2019-06-01   9.302326     4.610380\n",
              "2019-07-01   7.812500     4.430983\n",
              "2019-08-01   8.661417     4.197303\n",
              "2019-09-01  16.666667     4.054127\n",
              "2019-10-01   9.600000     4.077618\n",
              "2019-11-01   3.225806     4.090794\n",
              "2019-12-01   0.813008     3.991418"
            ]
          },
          "metadata": {},
          "execution_count": 65
        }
      ]
    },
    {
      "cell_type": "code",
      "source": [
        "test_alt.plot(figsize=(14,5))"
      ],
      "metadata": {
        "colab": {
          "base_uri": "https://localhost:8080/",
          "height": 362
        },
        "id": "bMs7Nnp23VN_",
        "outputId": "342ac44d-7bf8-4cbc-bee6-9a073fb514de"
      },
      "execution_count": 66,
      "outputs": [
        {
          "output_type": "execute_result",
          "data": {
            "text/plain": [
              "<matplotlib.axes._subplots.AxesSubplot at 0x7f519b4d1a90>"
            ]
          },
          "metadata": {},
          "execution_count": 66
        },
        {
          "output_type": "display_data",
          "data": {
            "image/png": "[encoded data removed]",
            "text/plain": [
              "<Figure size 1008x360 with 1 Axes>"
            ]
          },
          "metadata": {
            "needs_background": "light"
          }
        }
      ]
    },
    {
      "cell_type": "code",
      "source": [
        "from sklearn.metrics import mean_squared_error\n",
        "from math import sqrt\n",
        "rmse_t=sqrt(mean_squared_error(test_tucu['Tucurui'],test_tucu['Predictions']))\n",
        "rmse_a=sqrt(mean_squared_error(test_alt['Altamira'],test_tucu['Predictions']))\n",
        "print(rmse_t)\n",
        "print(rmse_a)"
      ],
      "metadata": {
        "colab": {
          "base_uri": "https://localhost:8080/"
        },
        "id": "liiLV-xF3eDu",
        "outputId": "244a31ba-cae9-46a7-ab0e-1f863d382584"
      },
      "execution_count": 70,
      "outputs": [
        {
          "output_type": "stream",
          "name": "stdout",
          "text": [
            "2.670159141131673\n",
            "5.7538271804246675\n"
          ]
        }
      ]
    },
    {
      "cell_type": "code",
      "source": [
        ""
      ],
      "metadata": {
        "id": "YDe4hfat36O9"
      },
      "execution_count": null,
      "outputs": []
    }
  ]
}